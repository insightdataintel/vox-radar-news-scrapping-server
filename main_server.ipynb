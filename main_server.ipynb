{
 "cells": [
  {
   "cell_type": "code",
   "execution_count": 24,
   "id": "fd888379-3239-4722-9ecd-e50ea57461fb",
   "metadata": {},
   "outputs": [],
   "source": [
    "import argparse\n",
    "from flask import Flask, jsonify\n",
    "from src.app.routes import RouteApp\n",
    "from src.app.queues import QueuesApp\n",
    "import argparse"
   ]
  },
  {
   "cell_type": "code",
   "execution_count": 35,
   "id": "9a457221-aec0-4da7-b8be-36eab176eecb",
   "metadata": {},
   "outputs": [
    {
     "name": "stderr",
     "output_type": "stream",
     "text": [
      "UsageError: Line magic function `%%file` not found.\n"
     ]
    }
   ],
   "source": [
    "#if __name__ == \"__main__\":\n",
    "\n",
    "parser = argparse.ArgumentParser()\n",
    "parser.add_argument(\"-p\", \"--port\", action=\"store\", default=\"8000\")\n",
    "parser.add_argument(\"-m\", \"--mode\", action=\"store\", default=\"rest\")\n",
    "parser.add_argument(\"-q\", \"--queue\", action=\"store\", default=\"\")\n",
    "\n",
    "\n",
    "\n"
   ]
  },
  {
   "cell_type": "code",
   "execution_count": 36,
   "id": "f1fafccf-8817-422e-8b95-9f5857405303",
   "metadata": {},
   "outputs": [
    {
     "name": "stderr",
     "output_type": "stream",
     "text": [
      "usage: ipykernel_launcher.py [-h] [-p PORT] [-m MODE] [-q QUEUE]\n",
      "ipykernel_launcher.py: error: unrecognized arguments: -f C:\\Users\\compiutah\\AppData\\Roaming\\jupyter\\runtime\\kernel-9429f4f9-a4de-4feb-837d-2ffd824c9dd2.json\n"
     ]
    },
    {
     "ename": "SystemExit",
     "evalue": "2",
     "output_type": "error",
     "traceback": [
      "An exception has occurred, use %tb to see the full traceback.\n",
      "\u001b[1;31mSystemExit\u001b[0m\u001b[1;31m:\u001b[0m 2\n"
     ]
    }
   ],
   "source": [
    "args = parser.parse_args()\n",
    "print('Args', args)\n",
    "\n",
    "port = int(args.port)\n",
    "\n"
   ]
  },
  {
   "cell_type": "code",
   "execution_count": 37,
   "id": "67944289-feb5-4099-9209-3fcd93e06c5b",
   "metadata": {},
   "outputs": [
    {
     "ename": "NameError",
     "evalue": "name 'args' is not defined",
     "output_type": "error",
     "traceback": [
      "\u001b[1;31m---------------------------------------------------------------------------\u001b[0m",
      "\u001b[1;31mNameError\u001b[0m                                 Traceback (most recent call last)",
      "Input \u001b[1;32mIn [37]\u001b[0m, in \u001b[0;36m<cell line: 1>\u001b[1;34m()\u001b[0m\n\u001b[1;32m----> 1\u001b[0m \u001b[38;5;28;01mif\u001b[39;00m \u001b[43margs\u001b[49m\u001b[38;5;241m.\u001b[39mmode \u001b[38;5;241m==\u001b[39m \u001b[38;5;124m'\u001b[39m\u001b[38;5;124mrest\u001b[39m\u001b[38;5;124m'\u001b[39m:\n\u001b[0;32m      2\u001b[0m     app \u001b[38;5;241m=\u001b[39m RouteApp\u001b[38;5;241m.\u001b[39mcreate_app()\n\u001b[0;32m      3\u001b[0m     app\u001b[38;5;241m.\u001b[39mrun(host\u001b[38;5;241m=\u001b[39m\u001b[38;5;124m\"\u001b[39m\u001b[38;5;124m0.0.0.0\u001b[39m\u001b[38;5;124m\"\u001b[39m, port\u001b[38;5;241m=\u001b[39mport)\n",
      "\u001b[1;31mNameError\u001b[0m: name 'args' is not defined"
     ]
    }
   ],
   "source": [
    "if args.mode == 'rest':\n",
    "    app = RouteApp.create_app()\n",
    "    app.run(host=\"0.0.0.0\", port=port)\n",
    "\n",
    "elif args.mode == 'queue':\n",
    "    queues_app = QueuesApp()\n",
    "    queues_app.create_app(args.queue)\n",
    "\n",
    "else:\n",
    "    print('Arg wrong | rest or queue')"
   ]
  },
  {
   "cell_type": "code",
   "execution_count": null,
   "id": "7c6a1ef1-989d-4b25-b592-b81b3f25a126",
   "metadata": {},
   "outputs": [],
   "source": []
  }
 ],
 "metadata": {
  "kernelspec": {
   "display_name": "Python 3 (ipykernel)",
   "language": "python",
   "name": "python3"
  },
  "language_info": {
   "codemirror_mode": {
    "name": "ipython",
    "version": 3
   },
   "file_extension": ".py",
   "mimetype": "text/x-python",
   "name": "python",
   "nbconvert_exporter": "python",
   "pygments_lexer": "ipython3",
   "version": "3.10.5"
  }
 },
 "nbformat": 4,
 "nbformat_minor": 5
}
